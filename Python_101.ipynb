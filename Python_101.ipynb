{
  "nbformat": 4,
  "nbformat_minor": 0,
  "metadata": {
    "colab": {
      "name": "Python 101.ipynb",
      "provenance": [],
      "include_colab_link": true
    },
    "kernelspec": {
      "name": "python3",
      "display_name": "Python 3"
    }
  },
  "cells": [
    {
      "cell_type": "markdown",
      "metadata": {
        "id": "view-in-github",
        "colab_type": "text"
      },
      "source": [
        "<a href=\"https://colab.research.google.com/github/kullugulia/datasciencecoursera/blob/master/Python_101.ipynb\" target=\"_parent\"><img src=\"https://colab.research.google.com/assets/colab-badge.svg\" alt=\"Open In Colab\"/></a>"
      ]
    },
    {
      "cell_type": "markdown",
      "metadata": {
        "id": "EPkaG9MCv3g-"
      },
      "source": [
        ""
      ]
    },
    {
      "cell_type": "markdown",
      "metadata": {
        "id": "92k2LpC1dA5-"
      },
      "source": [
        "Basics\r\n"
      ]
    },
    {
      "cell_type": "code",
      "metadata": {
        "colab": {
          "base_uri": "https://localhost:8080/"
        },
        "id": "pwtEnRuMcMYk",
        "outputId": "c118dc78-55c0-4ca8-d0af-3b86fe61c6f1"
      },
      "source": [
        "print(\"Hello World !\")"
      ],
      "execution_count": null,
      "outputs": [
        {
          "output_type": "stream",
          "text": [
            "Hello World !\n"
          ],
          "name": "stdout"
        }
      ]
    },
    {
      "cell_type": "code",
      "metadata": {
        "id": "UN49lL-8cwUx"
      },
      "source": [
        "# This is a comment"
      ],
      "execution_count": null,
      "outputs": []
    },
    {
      "cell_type": "markdown",
      "metadata": {
        "id": "dVgl60xVeJw7"
      },
      "source": [
        "Python Keywords"
      ]
    },
    {
      "cell_type": "markdown",
      "metadata": {
        "id": "0LRYWX_VqIDl"
      },
      "source": [
        "Python Identifiers\r\n",
        "\r\n",
        "Name given to:-\r\n",
        "\r\n",
        "*   Variable\r\n",
        "*   Function\r\n",
        "*   Class\r\n",
        "\r\n"
      ]
    },
    {
      "cell_type": "code",
      "metadata": {
        "id": "i5CKNYI-qRZL"
      },
      "source": [
        "my_name = 'John Doe'"
      ],
      "execution_count": null,
      "outputs": []
    },
    {
      "cell_type": "markdown",
      "metadata": {
        "id": "2Dk0kJPJwByQ"
      },
      "source": [
        "identifier names are case sensitive"
      ]
    },
    {
      "cell_type": "code",
      "metadata": {
        "id": "IqT0Ck-jqeis"
      },
      "source": [
        "my_Name = \"Jane Smith\""
      ],
      "execution_count": null,
      "outputs": []
    },
    {
      "cell_type": "markdown",
      "metadata": {
        "id": "XyQuqFR7qm5p"
      },
      "source": [
        " special symbols like !, @, #, $, %, etc can't be used "
      ]
    },
    {
      "cell_type": "code",
      "metadata": {
        "id": "GbA-r-dHwjqs"
      },
      "source": [
        "first_name, last_name = \"John\", \"Smith\""
      ],
      "execution_count": null,
      "outputs": []
    },
    {
      "cell_type": "code",
      "metadata": {
        "colab": {
          "base_uri": "https://localhost:8080/"
        },
        "id": "0mwLPCWneMLc",
        "outputId": "53dfd532-e660-4b9f-e35e-9ae6fe224c35"
      },
      "source": [
        "help(\"keywords\")"
      ],
      "execution_count": null,
      "outputs": [
        {
          "output_type": "stream",
          "text": [
            "\n",
            "Here is a list of the Python keywords.  Enter any keyword to get more help.\n",
            "\n",
            "False               def                 if                  raise\n",
            "None                del                 import              return\n",
            "True                elif                in                  try\n",
            "and                 else                is                  while\n",
            "as                  except              lambda              with\n",
            "assert              finally             nonlocal            yield\n",
            "break               for                 not                 \n",
            "class               from                or                  \n",
            "continue            global              pass                \n",
            "\n"
          ],
          "name": "stdout"
        }
      ]
    },
    {
      "cell_type": "markdown",
      "metadata": {
        "id": "wJNejqLGf39E"
      },
      "source": [
        "Basic Calculations in Python"
      ]
    },
    {
      "cell_type": "code",
      "metadata": {
        "colab": {
          "base_uri": "https://localhost:8080/"
        },
        "id": "bowK9ll6f7RT",
        "outputId": "bee44956-08c9-454b-adee-2a1b9eccb507"
      },
      "source": [
        "print(1 + 1)\r\n",
        "\r\n",
        "print(5 - 2)\r\n",
        "\r\n",
        "print(3 * 4)\r\n",
        "\r\n",
        "print(42 / 6)\r\n",
        "\r\n",
        "print(51 % 7)\r\n",
        "\r\n",
        "print(8 ** 2)"
      ],
      "execution_count": null,
      "outputs": [
        {
          "output_type": "stream",
          "text": [
            "2\n",
            "3\n",
            "12\n",
            "7.0\n",
            "2\n",
            "64\n"
          ],
          "name": "stdout"
        }
      ]
    },
    {
      "cell_type": "markdown",
      "metadata": {
        "id": "rXWyn_pb_YpE"
      },
      "source": [
        "Different Operators: \r\n",
        "\r\n",
        "\r\n",
        "*   Assignment: `=`\r\n",
        "*   Equals: `==`\r\n",
        "*   addition: `+`\r\n",
        "*   subtraction: `-`\r\n",
        "*   division: `/`\r\n",
        "*   multiplication: `*`\r\n",
        "*   exponentiation: `**`\r\n",
        "*   modulus: `%`\r\n",
        "*   floor division: `//`"
      ]
    },
    {
      "cell_type": "markdown",
      "metadata": {
        "id": "UN6819lMytrr"
      },
      "source": [
        "Datatypes\r\n"
      ]
    },
    {
      "cell_type": "markdown",
      "metadata": {
        "id": "RTPY9cSKzbMJ"
      },
      "source": [
        "Numeric Data:\r\n",
        "\r\n",
        "\r\n",
        "*   int \r\n",
        "*   float\r\n",
        "\r\n"
      ]
    },
    {
      "cell_type": "code",
      "metadata": {
        "id": "88hyLKPR3Fx9"
      },
      "source": [
        "fiver = 5\r\n",
        "\r\n",
        "fivePoint = 5.1"
      ],
      "execution_count": null,
      "outputs": []
    },
    {
      "cell_type": "markdown",
      "metadata": {
        "id": "SCQ7sqKc3gP3"
      },
      "source": [
        "Lists"
      ]
    },
    {
      "cell_type": "code",
      "metadata": {
        "id": "OPTwXVsy3UFh"
      },
      "source": [
        "heights = [174, 172, 172, 171, 167]"
      ],
      "execution_count": null,
      "outputs": []
    },
    {
      "cell_type": "markdown",
      "metadata": {
        "id": "vtxs7Q-s4PG9"
      },
      "source": [
        "Tuples"
      ]
    },
    {
      "cell_type": "code",
      "metadata": {
        "id": "8YILNz0K4Qyh"
      },
      "source": [
        "coord = (19.044944855768215, 72.91247863304403)"
      ],
      "execution_count": null,
      "outputs": []
    },
    {
      "cell_type": "code",
      "metadata": {
        "colab": {
          "base_uri": "https://localhost:8080/"
        },
        "id": "zvLshO_e6yT4",
        "outputId": "df6398c0-158d-4d26-acc1-de15510dac18"
      },
      "source": [
        "coord[0]"
      ],
      "execution_count": null,
      "outputs": [
        {
          "output_type": "execute_result",
          "data": {
            "text/plain": [
              "19.044944855768215"
            ]
          },
          "metadata": {
            "tags": []
          },
          "execution_count": 16
        }
      ]
    },
    {
      "cell_type": "markdown",
      "metadata": {
        "id": "HfZzAaWJ7rog"
      },
      "source": [
        "Sets"
      ]
    },
    {
      "cell_type": "code",
      "metadata": {
        "colab": {
          "base_uri": "https://localhost:8080/"
        },
        "id": "e0wHeoZN7T9j",
        "outputId": "e8912228-12f4-4b21-a3ce-0f544acd96e0"
      },
      "source": [
        "heights_set = {174, 172, 172, 171, 167}\r\n",
        "heights_set"
      ],
      "execution_count": null,
      "outputs": [
        {
          "output_type": "execute_result",
          "data": {
            "text/plain": [
              "{167, 171, 172, 174}"
            ]
          },
          "metadata": {
            "tags": []
          },
          "execution_count": 19
        }
      ]
    },
    {
      "cell_type": "markdown",
      "metadata": {
        "id": "_iVDrmsl73Ci"
      },
      "source": [
        "Dictionary"
      ]
    },
    {
      "cell_type": "code",
      "metadata": {
        "id": "DjEMYz9I8gTd"
      },
      "source": [
        "this_dict = {\"John\": 174, \"Jane\": 172, \"Nick Fury\": 180}"
      ],
      "execution_count": null,
      "outputs": []
    },
    {
      "cell_type": "markdown",
      "metadata": {
        "id": "QHlcY1cfyZIG"
      },
      "source": [
        "Literals:\r\n",
        "\r\n",
        "\r\n",
        "*   Numeric Literals\r\n",
        "*   String Literals\r\n",
        "*   Boolean Literals\r\n",
        "\r\n"
      ]
    },
    {
      "cell_type": "markdown",
      "metadata": {
        "id": "DjFJKV8e-7SM"
      },
      "source": [
        "Conditional Statements"
      ]
    },
    {
      "cell_type": "code",
      "metadata": {
        "colab": {
          "base_uri": "https://localhost:8080/"
        },
        "id": "RuVb8fl8-9w7",
        "outputId": "a4dcb295-bdf6-49aa-a83a-be4707dfb751"
      },
      "source": [
        "for height in heights:\r\n",
        "  print(height, 'cm')"
      ],
      "execution_count": null,
      "outputs": [
        {
          "output_type": "stream",
          "text": [
            "174 cm\n",
            "172 cm\n",
            "172 cm\n",
            "171 cm\n",
            "167 cm\n"
          ],
          "name": "stdout"
        }
      ]
    },
    {
      "cell_type": "code",
      "metadata": {
        "colab": {
          "base_uri": "https://localhost:8080/"
        },
        "id": "wt-e2-ZM_OaL",
        "outputId": "1cfc81b4-13e8-42b1-90d8-1379e4c3eee7"
      },
      "source": [
        "for h in heights:\r\n",
        "  if h > 171:\r\n",
        "    print(h) "
      ],
      "execution_count": null,
      "outputs": [
        {
          "output_type": "stream",
          "text": [
            "174\n",
            "172\n",
            "172\n"
          ],
          "name": "stdout"
        }
      ]
    },
    {
      "cell_type": "code",
      "metadata": {
        "colab": {
          "base_uri": "https://localhost:8080/"
        },
        "id": "MGTokrJBAUKe",
        "outputId": "bbe1d4c2-4b0b-434c-ee94-f84d4c16787f"
      },
      "source": [
        "for h in heights:\r\n",
        "  if h <= 171:\r\n",
        "    print(h) "
      ],
      "execution_count": null,
      "outputs": [
        {
          "output_type": "stream",
          "text": [
            "171\n",
            "167\n"
          ],
          "name": "stdout"
        }
      ]
    },
    {
      "cell_type": "markdown",
      "metadata": {
        "id": "_OR8H2Fl-nQv"
      },
      "source": [
        "Functions"
      ]
    },
    {
      "cell_type": "code",
      "metadata": {
        "id": "qQQ485ew-oUW"
      },
      "source": [
        "def add_height(x):\r\n",
        "  "
      ],
      "execution_count": null,
      "outputs": []
    }
  ]
}